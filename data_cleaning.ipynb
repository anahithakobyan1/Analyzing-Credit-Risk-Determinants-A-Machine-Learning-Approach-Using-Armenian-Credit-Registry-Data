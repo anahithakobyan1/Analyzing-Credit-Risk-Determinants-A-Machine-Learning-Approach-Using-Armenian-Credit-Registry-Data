{
 "cells": [
  {
   "cell_type": "markdown",
   "metadata": {},
   "source": [
    "## Data Inspection & Cleaning"
   ]
  },
  {
   "cell_type": "code",
   "execution_count": 1,
   "metadata": {},
   "outputs": [],
   "source": [
    "import pandas as pd\n",
    "import numpy as np\n",
    "import os\n",
    "import warnings\n",
    "import pyreadstat\n",
    "import seaborn as sns\n",
    "import matplotlib.pyplot as plt\n",
    "import copy\n",
    "warnings.filterwarnings('ignore')"
   ]
  },
  {
   "cell_type": "code",
   "execution_count": 2,
   "metadata": {},
   "outputs": [],
   "source": [
    "data = pd.read_stata(\"BankDataforML.dta\")"
   ]
  },
  {
   "cell_type": "code",
   "execution_count": 3,
   "metadata": {},
   "outputs": [
    {
     "data": {
      "text/html": [
       "<div>\n",
       "<style scoped>\n",
       "    .dataframe tbody tr th:only-of-type {\n",
       "        vertical-align: middle;\n",
       "    }\n",
       "\n",
       "    .dataframe tbody tr th {\n",
       "        vertical-align: top;\n",
       "    }\n",
       "\n",
       "    .dataframe thead th {\n",
       "        text-align: right;\n",
       "    }\n",
       "</style>\n",
       "<table border=\"1\" class=\"dataframe\">\n",
       "  <thead>\n",
       "    <tr style=\"text-align: right;\">\n",
       "      <th></th>\n",
       "      <th>idperson</th>\n",
       "      <th>bankid</th>\n",
       "      <th>reg_code</th>\n",
       "      <th>loan_type</th>\n",
       "      <th>currency</th>\n",
       "      <th>price_nom</th>\n",
       "      <th>price_real</th>\n",
       "      <th>risk_class</th>\n",
       "      <th>last_reclass_date</th>\n",
       "      <th>overdue_date</th>\n",
       "      <th>...</th>\n",
       "      <th>first_classification_date</th>\n",
       "      <th>last_classification_date</th>\n",
       "      <th>birth_day</th>\n",
       "      <th>education</th>\n",
       "      <th>employment</th>\n",
       "      <th>family_members</th>\n",
       "      <th>gender</th>\n",
       "      <th>ispe</th>\n",
       "      <th>marital_status</th>\n",
       "      <th>address</th>\n",
       "    </tr>\n",
       "  </thead>\n",
       "  <tbody>\n",
       "    <tr>\n",
       "      <th>0</th>\n",
       "      <td>1.107040e+12</td>\n",
       "      <td>19300</td>\n",
       "      <td>19300-20180514-047755</td>\n",
       "      <td>5</td>\n",
       "      <td>AMD</td>\n",
       "      <td>18.0</td>\n",
       "      <td>12.620000</td>\n",
       "      <td>0</td>\n",
       "      <td></td>\n",
       "      <td></td>\n",
       "      <td>...</td>\n",
       "      <td>NaT</td>\n",
       "      <td>NaT</td>\n",
       "      <td>27/03/1987</td>\n",
       "      <td>Բարձրագույն մասնագիտական</td>\n",
       "      <td>Ինքնազբաղված է` սեփական բիզնեսում կամ որպես ըն...</td>\n",
       "      <td>4.0</td>\n",
       "      <td>M</td>\n",
       "      <td>Y</td>\n",
       "      <td>Ամուսնացած (գրանցված և փաստացի)</td>\n",
       "      <td>16851206</td>\n",
       "    </tr>\n",
       "    <tr>\n",
       "      <th>1</th>\n",
       "      <td>1.107040e+12</td>\n",
       "      <td>19300</td>\n",
       "      <td>19300-20200722-003208</td>\n",
       "      <td>7</td>\n",
       "      <td>AMD</td>\n",
       "      <td>18.0</td>\n",
       "      <td>19.559999</td>\n",
       "      <td>0</td>\n",
       "      <td></td>\n",
       "      <td></td>\n",
       "      <td>...</td>\n",
       "      <td>NaT</td>\n",
       "      <td>NaT</td>\n",
       "      <td>27/03/1987</td>\n",
       "      <td>Բարձրագույն մասնագիտական</td>\n",
       "      <td>Ինքնազբաղված է` սեփական բիզնեսում կամ որպես ըն...</td>\n",
       "      <td>4.0</td>\n",
       "      <td>M</td>\n",
       "      <td>Y</td>\n",
       "      <td>Ամուսնացած (գրանցված և փաստացի)</td>\n",
       "      <td>16851206</td>\n",
       "    </tr>\n",
       "    <tr>\n",
       "      <th>2</th>\n",
       "      <td>1.107040e+12</td>\n",
       "      <td>19300</td>\n",
       "      <td>19300-20180515-130154</td>\n",
       "      <td>5</td>\n",
       "      <td>EUR</td>\n",
       "      <td>6.0</td>\n",
       "      <td>6.150000</td>\n",
       "      <td>0</td>\n",
       "      <td></td>\n",
       "      <td></td>\n",
       "      <td>...</td>\n",
       "      <td>NaT</td>\n",
       "      <td>NaT</td>\n",
       "      <td>27/03/1987</td>\n",
       "      <td>Բարձրագույն մասնագիտական</td>\n",
       "      <td>Ինքնազբաղված է` սեփական բիզնեսում կամ որպես ըն...</td>\n",
       "      <td>4.0</td>\n",
       "      <td>M</td>\n",
       "      <td>Y</td>\n",
       "      <td>Ամուսնացած (գրանցված և փաստացի)</td>\n",
       "      <td>16851206</td>\n",
       "    </tr>\n",
       "    <tr>\n",
       "      <th>3</th>\n",
       "      <td>1.107040e+12</td>\n",
       "      <td>19300</td>\n",
       "      <td>19300-20190531-003194</td>\n",
       "      <td>7</td>\n",
       "      <td>AMD</td>\n",
       "      <td>12.0</td>\n",
       "      <td>12.920000</td>\n",
       "      <td>0</td>\n",
       "      <td></td>\n",
       "      <td></td>\n",
       "      <td>...</td>\n",
       "      <td>NaT</td>\n",
       "      <td>NaT</td>\n",
       "      <td>27/03/1987</td>\n",
       "      <td>Բարձրագույն մասնագիտական</td>\n",
       "      <td>Ինքնազբաղված է` սեփական բիզնեսում կամ որպես ըն...</td>\n",
       "      <td>4.0</td>\n",
       "      <td>M</td>\n",
       "      <td>Y</td>\n",
       "      <td>Ամուսնացած (գրանցված և փաստացի)</td>\n",
       "      <td>16851206</td>\n",
       "    </tr>\n",
       "    <tr>\n",
       "      <th>4</th>\n",
       "      <td>1.107040e+12</td>\n",
       "      <td>19300</td>\n",
       "      <td>19300-20181106-001507</td>\n",
       "      <td>7</td>\n",
       "      <td>AMD</td>\n",
       "      <td>12.0</td>\n",
       "      <td>12.930000</td>\n",
       "      <td>0</td>\n",
       "      <td></td>\n",
       "      <td></td>\n",
       "      <td>...</td>\n",
       "      <td>NaT</td>\n",
       "      <td>NaT</td>\n",
       "      <td>27/03/1987</td>\n",
       "      <td>Բարձրագույն մասնագիտական</td>\n",
       "      <td>Ինքնազբաղված է` սեփական բիզնեսում կամ որպես ըն...</td>\n",
       "      <td>4.0</td>\n",
       "      <td>M</td>\n",
       "      <td>Y</td>\n",
       "      <td>Ամուսնացած (գրանցված և փաստացի)</td>\n",
       "      <td>16851206</td>\n",
       "    </tr>\n",
       "  </tbody>\n",
       "</table>\n",
       "<p>5 rows × 48 columns</p>\n",
       "</div>"
      ],
      "text/plain": [
       "       idperson  bankid               reg_code  loan_type currency  price_nom  \\\n",
       "0  1.107040e+12   19300  19300-20180514-047755          5      AMD       18.0   \n",
       "1  1.107040e+12   19300  19300-20200722-003208          7      AMD       18.0   \n",
       "2  1.107040e+12   19300  19300-20180515-130154          5      EUR        6.0   \n",
       "3  1.107040e+12   19300  19300-20190531-003194          7      AMD       12.0   \n",
       "4  1.107040e+12   19300  19300-20181106-001507          7      AMD       12.0   \n",
       "\n",
       "   price_real  risk_class last_reclass_date overdue_date  ...  \\\n",
       "0   12.620000           0                                 ...   \n",
       "1   19.559999           0                                 ...   \n",
       "2    6.150000           0                                 ...   \n",
       "3   12.920000           0                                 ...   \n",
       "4   12.930000           0                                 ...   \n",
       "\n",
       "   first_classification_date  last_classification_date   birth_day  \\\n",
       "0                        NaT                       NaT  27/03/1987   \n",
       "1                        NaT                       NaT  27/03/1987   \n",
       "2                        NaT                       NaT  27/03/1987   \n",
       "3                        NaT                       NaT  27/03/1987   \n",
       "4                        NaT                       NaT  27/03/1987   \n",
       "\n",
       "                  education  \\\n",
       "0  Բարձրագույն մասնագիտական   \n",
       "1  Բարձրագույն մասնագիտական   \n",
       "2  Բարձրագույն մասնագիտական   \n",
       "3  Բարձրագույն մասնագիտական   \n",
       "4  Բարձրագույն մասնագիտական   \n",
       "\n",
       "                                          employment family_members gender  \\\n",
       "0  Ինքնազբաղված է` սեփական բիզնեսում կամ որպես ըն...            4.0      M   \n",
       "1  Ինքնազբաղված է` սեփական բիզնեսում կամ որպես ըն...            4.0      M   \n",
       "2  Ինքնազբաղված է` սեփական բիզնեսում կամ որպես ըն...            4.0      M   \n",
       "3  Ինքնազբաղված է` սեփական բիզնեսում կամ որպես ըն...            4.0      M   \n",
       "4  Ինքնազբաղված է` սեփական բիզնեսում կամ որպես ըն...            4.0      M   \n",
       "\n",
       "  ispe                   marital_status   address  \n",
       "0    Y  Ամուսնացած (գրանցված և փաստացի)  16851206  \n",
       "1    Y  Ամուսնացած (գրանցված և փաստացի)  16851206  \n",
       "2    Y  Ամուսնացած (գրանցված և փաստացի)  16851206  \n",
       "3    Y  Ամուսնացած (գրանցված և փաստացի)  16851206  \n",
       "4    Y  Ամուսնացած (գրանցված և փաստացի)  16851206  \n",
       "\n",
       "[5 rows x 48 columns]"
      ]
     },
     "execution_count": 3,
     "metadata": {},
     "output_type": "execute_result"
    }
   ],
   "source": [
    "data.head()"
   ]
  },
  {
   "cell_type": "code",
   "execution_count": 4,
   "metadata": {},
   "outputs": [
    {
     "data": {
      "text/plain": [
       "1617745"
      ]
     },
     "execution_count": 4,
     "metadata": {},
     "output_type": "execute_result"
    }
   ],
   "source": [
    "len(data)"
   ]
  },
  {
   "cell_type": "markdown",
   "metadata": {},
   "source": [
    "#### Price Real"
   ]
  },
  {
   "cell_type": "code",
   "execution_count": 5,
   "metadata": {},
   "outputs": [],
   "source": [
    "Q1 = data['price_real'].quantile(0.25) #quantile 1\n",
    "Q3 = data['price_real'].quantile(0.75) #quantile 3\n",
    "\n",
    "IQR = Q3 - Q1 \n",
    "\n",
    "lower_bound = Q1 - 1.5 *IQR\n",
    "upper_bound = Q3 + 1.5 * IQR"
   ]
  },
  {
   "cell_type": "code",
   "execution_count": 6,
   "metadata": {},
   "outputs": [],
   "source": [
    "data = data[data.price_real <= upper_bound]\n",
    "data.reset_index(inplace = True, drop = True)"
   ]
  },
  {
   "cell_type": "code",
   "execution_count": 7,
   "metadata": {},
   "outputs": [
    {
     "name": "stdout",
     "output_type": "stream",
     "text": [
      "<class 'pandas.core.frame.DataFrame'>\n",
      "RangeIndex: 1611362 entries, 0 to 1611361\n",
      "Data columns (total 48 columns):\n",
      " #   Column                     Non-Null Count    Dtype         \n",
      "---  ------                     --------------    -----         \n",
      " 0   idperson                   1611362 non-null  float64       \n",
      " 1   bankid                     1611362 non-null  int32         \n",
      " 2   reg_code                   1611362 non-null  object        \n",
      " 3   loan_type                  1611362 non-null  int8          \n",
      " 4   currency                   1611362 non-null  object        \n",
      " 5   price_nom                  1611362 non-null  float32       \n",
      " 6   price_real                 1611362 non-null  float32       \n",
      " 7   risk_class                 1611362 non-null  int8          \n",
      " 8   last_reclass_date          1611362 non-null  object        \n",
      " 9   overdue_date               1611362 non-null  object        \n",
      " 10  collateral_id              1611362 non-null  int16         \n",
      " 11  volume_contract            1609097 non-null  float32       \n",
      " 12  volume_actual              1609097 non-null  float32       \n",
      " 13  risk_class_other           1611362 non-null  int8          \n",
      " 14  birthdate                  1611362 non-null  object        \n",
      " 15  contract_date              1611362 non-null  datetime64[ns]\n",
      " 16  maturity_date              1611362 non-null  datetime64[ns]\n",
      " 17  actual_date                1604683 non-null  datetime64[ns]\n",
      " 18  maturity_date_actual       1509505 non-null  datetime64[ns]\n",
      " 19  AMD_dummy                  1609622 non-null  float32       \n",
      " 20  classified                 1611362 non-null  float32       \n",
      " 21  year                       1611362 non-null  float32       \n",
      " 22  month                      1611362 non-null  float32       \n",
      " 23  quarter                    1611362 non-null  float32       \n",
      " 24  yq                         1611362 non-null  datetime64[ns]\n",
      " 25  ym                         1611362 non-null  datetime64[ns]\n",
      " 26  maturity                   1611362 non-null  float32       \n",
      " 27  maturity_actual            1454968 non-null  float32       \n",
      " 28  loan_status                1611362 non-null  object        \n",
      " 29  maturity_dates_actual      1509505 non-null  datetime64[ns]\n",
      " 30  fico_score                 292159 non-null   float64       \n",
      " 31  bank_score1                1082672 non-null  float64       \n",
      " 32  bank_score2                170940 non-null   float32       \n",
      " 33  acra_kanxatesogh           89688 non-null    float32       \n",
      " 34  acra_qartayin              4358 non-null     float32       \n",
      " 35  acra_nkaragrogh            1659 non-null     float32       \n",
      " 36  income                     294910 non-null   float64       \n",
      " 37  dsti                       131006 non-null   float64       \n",
      " 38  first_classification_date  465539 non-null   datetime64[ns]\n",
      " 39  last_classification_date   465539 non-null   datetime64[ns]\n",
      " 40  birth_day                  1611362 non-null  object        \n",
      " 41  education                  1611362 non-null  object        \n",
      " 42  employment                 1611362 non-null  object        \n",
      " 43  family_members             1380086 non-null  float64       \n",
      " 44  gender                     1611362 non-null  object        \n",
      " 45  ispe                       1611362 non-null  object        \n",
      " 46  marital_status             1611362 non-null  object        \n",
      " 47  address                    1611362 non-null  int32         \n",
      "dtypes: datetime64[ns](9), float32(15), float64(6), int16(1), int32(2), int8(3), object(12)\n",
      "memory usage: 444.1+ MB\n"
     ]
    }
   ],
   "source": [
    "data.info()"
   ]
  },
  {
   "cell_type": "markdown",
   "metadata": {},
   "source": [
    "#### Contract Date"
   ]
  },
  {
   "cell_type": "code",
   "execution_count": 8,
   "metadata": {},
   "outputs": [],
   "source": [
    "data['contract_date'] = pd.to_datetime(data['contract_date'], format = \"%Y/%m/%d\")"
   ]
  },
  {
   "cell_type": "code",
   "execution_count": 9,
   "metadata": {},
   "outputs": [
    {
     "data": {
      "text/plain": [
       "count                 1611362\n",
       "unique                   3275\n",
       "top       2020-12-07 00:00:00\n",
       "freq                     5509\n",
       "first     2002-12-04 00:00:00\n",
       "last      2021-05-20 00:00:00\n",
       "Name: contract_date, dtype: object"
      ]
     },
     "execution_count": 9,
     "metadata": {},
     "output_type": "execute_result"
    }
   ],
   "source": [
    "data['contract_date'].describe()"
   ]
  },
  {
   "cell_type": "markdown",
   "metadata": {},
   "source": [
    "#### Risk class"
   ]
  },
  {
   "cell_type": "markdown",
   "metadata": {},
   "source": [
    "In the data inspection phase, it was observed that two additional values exist that are not consistent with the usual 5 risk classification categories. Since the anomalous values are limited to only 6 instances, we can remove them."
   ]
  },
  {
   "cell_type": "code",
   "execution_count": 10,
   "metadata": {},
   "outputs": [
    {
     "data": {
      "text/plain": [
       "0    1313901\n",
       "4     186539\n",
       "1      65626\n",
       "3      27155\n",
       "2      18135\n",
       "5          4\n",
       "7          2\n",
       "Name: risk_class, dtype: int64"
      ]
     },
     "execution_count": 10,
     "metadata": {},
     "output_type": "execute_result"
    }
   ],
   "source": [
    "data[\"risk_class\"].value_counts()"
   ]
  },
  {
   "cell_type": "code",
   "execution_count": 11,
   "metadata": {},
   "outputs": [],
   "source": [
    "data = data[~data['risk_class'].isin([5, 7])]"
   ]
  },
  {
   "cell_type": "code",
   "execution_count": 12,
   "metadata": {},
   "outputs": [],
   "source": [
    "data.reset_index(inplace = True, drop = True)"
   ]
  },
  {
   "cell_type": "markdown",
   "metadata": {},
   "source": [
    "#### Last reclass date"
   ]
  },
  {
   "cell_type": "markdown",
   "metadata": {},
   "source": [
    "To utilize column that has more than 75% mssing values and indicates when was the last date that the loan's risk class was changed, we decided to create a binary indicator of classification ( 0 indicating never classified, 1 indicating has been classified)."
   ]
  },
  {
   "cell_type": "code",
   "execution_count": 13,
   "metadata": {},
   "outputs": [
    {
     "data": {
      "text/plain": [
       "              1224542\n",
       "2021-04-30      57025\n",
       "2021-03-31      47960\n",
       "2021-02-28      16370\n",
       "2020-11-30      13514\n",
       "               ...   \n",
       "2009-04-18          1\n",
       "2010-04-30          1\n",
       "2009-11-06          1\n",
       "2009-04-30          1\n",
       "2020-05-12          1\n",
       "Name: last_reclass_date, Length: 659, dtype: int64"
      ]
     },
     "execution_count": 13,
     "metadata": {},
     "output_type": "execute_result"
    }
   ],
   "source": [
    "data.last_reclass_date.value_counts()"
   ]
  },
  {
   "cell_type": "code",
   "execution_count": 14,
   "metadata": {},
   "outputs": [
    {
     "data": {
      "text/plain": [
       "0.7629102445393817"
      ]
     },
     "execution_count": 14,
     "metadata": {},
     "output_type": "execute_result"
    }
   ],
   "source": [
    "1229320/len(data) #missing values"
   ]
  },
  {
   "cell_type": "code",
   "execution_count": 15,
   "metadata": {},
   "outputs": [],
   "source": [
    "data['last_reclass_date_bin'] = data['last_reclass_date'].apply(lambda x: 0 if x == \"\" else 1)"
   ]
  },
  {
   "cell_type": "code",
   "execution_count": 16,
   "metadata": {},
   "outputs": [
    {
     "data": {
      "text/plain": [
       "0    1224542\n",
       "1     386814\n",
       "Name: last_reclass_date_bin, dtype: int64"
      ]
     },
     "execution_count": 16,
     "metadata": {},
     "output_type": "execute_result"
    }
   ],
   "source": [
    "data['last_reclass_date_bin'].value_counts()"
   ]
  },
  {
   "cell_type": "markdown",
   "metadata": {},
   "source": [
    "#### Overdue date"
   ]
  },
  {
   "cell_type": "markdown",
   "metadata": {},
   "source": [
    "To utilize column that has more than 83% mssing values indicating whether the loan had an overdueness, we decided to create a binary indicator of classification ( 0 indicating the loan wasn't overdue, 1 otherwise)."
   ]
  },
  {
   "cell_type": "code",
   "execution_count": 17,
   "metadata": {
    "scrolled": true
   },
   "outputs": [
    {
     "data": {
      "text/plain": [
       "              1353662\n",
       "2021-05-17       4542\n",
       "2020-07-27       3880\n",
       "2020-07-20       2934\n",
       "2021-02-25       2923\n",
       "               ...   \n",
       "2014-08-13          1\n",
       "2009-03-10          1\n",
       "2009-05-12          1\n",
       "2009-12-04          1\n",
       "2019-03-09          1\n",
       "Name: overdue_date, Length: 2183, dtype: int64"
      ]
     },
     "execution_count": 17,
     "metadata": {},
     "output_type": "execute_result"
    }
   ],
   "source": [
    "data['overdue_date'].value_counts()"
   ]
  },
  {
   "cell_type": "code",
   "execution_count": 18,
   "metadata": {},
   "outputs": [
    {
     "data": {
      "text/plain": [
       "0.8431656319273954"
      ]
     },
     "execution_count": 18,
     "metadata": {},
     "output_type": "execute_result"
    }
   ],
   "source": [
    "1358640/len(data)"
   ]
  },
  {
   "cell_type": "code",
   "execution_count": 19,
   "metadata": {},
   "outputs": [],
   "source": [
    "data['overdue_date_bin'] = data['overdue_date'].apply(lambda x: 0 if x == \"\" else 1)"
   ]
  },
  {
   "cell_type": "code",
   "execution_count": 20,
   "metadata": {},
   "outputs": [
    {
     "data": {
      "text/plain": [
       "0    1353662\n",
       "1     257694\n",
       "Name: overdue_date_bin, dtype: int64"
      ]
     },
     "execution_count": 20,
     "metadata": {},
     "output_type": "execute_result"
    }
   ],
   "source": [
    "data['overdue_date_bin'].value_counts()"
   ]
  },
  {
   "cell_type": "markdown",
   "metadata": {},
   "source": [
    "#### Volume Actual "
   ]
  },
  {
   "cell_type": "markdown",
   "metadata": {},
   "source": [
    "###### Exchange Rates"
   ]
  },
  {
   "cell_type": "code",
   "execution_count": 21,
   "metadata": {},
   "outputs": [],
   "source": [
    "rates = pd.read_csv(\"Exchange Rates.csv\") #Source - Central Bank"
   ]
  },
  {
   "cell_type": "code",
   "execution_count": 22,
   "metadata": {},
   "outputs": [
    {
     "name": "stdout",
     "output_type": "stream",
     "text": [
      "<class 'pandas.core.frame.DataFrame'>\n",
      "RangeIndex: 4819 entries, 0 to 4818\n",
      "Data columns (total 3 columns):\n",
      " #   Column  Non-Null Count  Dtype  \n",
      "---  ------  --------------  -----  \n",
      " 0   Date    4819 non-null   object \n",
      " 1   EUR     4819 non-null   float64\n",
      " 2   USD     4819 non-null   float64\n",
      "dtypes: float64(2), object(1)\n",
      "memory usage: 113.1+ KB\n"
     ]
    }
   ],
   "source": [
    "rates.info()"
   ]
  },
  {
   "cell_type": "code",
   "execution_count": 23,
   "metadata": {},
   "outputs": [
    {
     "data": {
      "text/html": [
       "<div>\n",
       "<style scoped>\n",
       "    .dataframe tbody tr th:only-of-type {\n",
       "        vertical-align: middle;\n",
       "    }\n",
       "\n",
       "    .dataframe tbody tr th {\n",
       "        vertical-align: top;\n",
       "    }\n",
       "\n",
       "    .dataframe thead th {\n",
       "        text-align: right;\n",
       "    }\n",
       "</style>\n",
       "<table border=\"1\" class=\"dataframe\">\n",
       "  <thead>\n",
       "    <tr style=\"text-align: right;\">\n",
       "      <th></th>\n",
       "      <th>Date</th>\n",
       "      <th>EUR</th>\n",
       "      <th>USD</th>\n",
       "    </tr>\n",
       "  </thead>\n",
       "  <tbody>\n",
       "    <tr>\n",
       "      <th>0</th>\n",
       "      <td>02/12/2002</td>\n",
       "      <td>581.53</td>\n",
       "      <td>585.81</td>\n",
       "    </tr>\n",
       "    <tr>\n",
       "      <th>1</th>\n",
       "      <td>03/12/2002</td>\n",
       "      <td>578.25</td>\n",
       "      <td>585.81</td>\n",
       "    </tr>\n",
       "    <tr>\n",
       "      <th>2</th>\n",
       "      <td>04/12/2002</td>\n",
       "      <td>584.57</td>\n",
       "      <td>586.51</td>\n",
       "    </tr>\n",
       "    <tr>\n",
       "      <th>3</th>\n",
       "      <td>05/12/2002</td>\n",
       "      <td>587.57</td>\n",
       "      <td>586.51</td>\n",
       "    </tr>\n",
       "    <tr>\n",
       "      <th>4</th>\n",
       "      <td>06/12/2002</td>\n",
       "      <td>585.62</td>\n",
       "      <td>586.15</td>\n",
       "    </tr>\n",
       "  </tbody>\n",
       "</table>\n",
       "</div>"
      ],
      "text/plain": [
       "         Date     EUR     USD\n",
       "0  02/12/2002  581.53  585.81\n",
       "1  03/12/2002  578.25  585.81\n",
       "2  04/12/2002  584.57  586.51\n",
       "3  05/12/2002  587.57  586.51\n",
       "4  06/12/2002  585.62  586.15"
      ]
     },
     "execution_count": 23,
     "metadata": {},
     "output_type": "execute_result"
    }
   ],
   "source": [
    "rates.head()"
   ]
  },
  {
   "cell_type": "code",
   "execution_count": 24,
   "metadata": {},
   "outputs": [],
   "source": [
    "rates.rename(columns={'Date':'contract_date'}, inplace = True)"
   ]
  },
  {
   "cell_type": "code",
   "execution_count": 25,
   "metadata": {},
   "outputs": [],
   "source": [
    "rates['contract_date'] = pd.to_datetime(rates['contract_date'], format = \"%d/%m/%Y\")"
   ]
  },
  {
   "cell_type": "code",
   "execution_count": 26,
   "metadata": {},
   "outputs": [
    {
     "data": {
      "text/plain": [
       "count                    4819\n",
       "unique                   4819\n",
       "top       2002-12-02 00:00:00\n",
       "freq                        1\n",
       "first     2002-12-02 00:00:00\n",
       "last      2021-12-30 00:00:00\n",
       "Name: contract_date, dtype: object"
      ]
     },
     "execution_count": 26,
     "metadata": {},
     "output_type": "execute_result"
    }
   ],
   "source": [
    "rates['contract_date'].describe()"
   ]
  },
  {
   "cell_type": "code",
   "execution_count": 27,
   "metadata": {},
   "outputs": [],
   "source": [
    "date_range = pd.date_range(start=rates['contract_date'].min(), end=rates['contract_date'].max())\n",
    "\n",
    "rates.set_index('contract_date', inplace=True)\n",
    "rates = rates.reindex(date_range)\n",
    "\n",
    "# Forward fill missing values since for all the days when there is no exchange rate, it remains the previous one\n",
    "rates.fillna(method='ffill', inplace=True)\n",
    "\n",
    "rates.reset_index(inplace=True)\n",
    "rates.rename(columns={'index': 'contract_date'}, inplace=True)"
   ]
  },
  {
   "cell_type": "code",
   "execution_count": 28,
   "metadata": {},
   "outputs": [
    {
     "data": {
      "text/html": [
       "<div>\n",
       "<style scoped>\n",
       "    .dataframe tbody tr th:only-of-type {\n",
       "        vertical-align: middle;\n",
       "    }\n",
       "\n",
       "    .dataframe tbody tr th {\n",
       "        vertical-align: top;\n",
       "    }\n",
       "\n",
       "    .dataframe thead th {\n",
       "        text-align: right;\n",
       "    }\n",
       "</style>\n",
       "<table border=\"1\" class=\"dataframe\">\n",
       "  <thead>\n",
       "    <tr style=\"text-align: right;\">\n",
       "      <th></th>\n",
       "      <th>contract_date</th>\n",
       "      <th>EUR</th>\n",
       "      <th>USD</th>\n",
       "    </tr>\n",
       "  </thead>\n",
       "  <tbody>\n",
       "    <tr>\n",
       "      <th>0</th>\n",
       "      <td>2002-12-02</td>\n",
       "      <td>581.53</td>\n",
       "      <td>585.81</td>\n",
       "    </tr>\n",
       "    <tr>\n",
       "      <th>1</th>\n",
       "      <td>2002-12-03</td>\n",
       "      <td>578.25</td>\n",
       "      <td>585.81</td>\n",
       "    </tr>\n",
       "    <tr>\n",
       "      <th>2</th>\n",
       "      <td>2002-12-04</td>\n",
       "      <td>584.57</td>\n",
       "      <td>586.51</td>\n",
       "    </tr>\n",
       "    <tr>\n",
       "      <th>3</th>\n",
       "      <td>2002-12-05</td>\n",
       "      <td>587.57</td>\n",
       "      <td>586.51</td>\n",
       "    </tr>\n",
       "    <tr>\n",
       "      <th>4</th>\n",
       "      <td>2002-12-06</td>\n",
       "      <td>585.62</td>\n",
       "      <td>586.15</td>\n",
       "    </tr>\n",
       "  </tbody>\n",
       "</table>\n",
       "</div>"
      ],
      "text/plain": [
       "  contract_date     EUR     USD\n",
       "0    2002-12-02  581.53  585.81\n",
       "1    2002-12-03  578.25  585.81\n",
       "2    2002-12-04  584.57  586.51\n",
       "3    2002-12-05  587.57  586.51\n",
       "4    2002-12-06  585.62  586.15"
      ]
     },
     "execution_count": 28,
     "metadata": {},
     "output_type": "execute_result"
    }
   ],
   "source": [
    "rates.head()"
   ]
  },
  {
   "cell_type": "code",
   "execution_count": 29,
   "metadata": {},
   "outputs": [],
   "source": [
    "data = data.dropna(subset=['volume_actual'])"
   ]
  },
  {
   "cell_type": "code",
   "execution_count": 30,
   "metadata": {},
   "outputs": [],
   "source": [
    "data = pd.merge(data, rates, on = \"contract_date\", how = \"left\")"
   ]
  },
  {
   "cell_type": "code",
   "execution_count": 31,
   "metadata": {},
   "outputs": [],
   "source": [
    "def convert_to_amd(row):\n",
    "    if row['currency'] == \"USD\":\n",
    "        return row['volume_actual']*row['USD']\n",
    "    elif row['currency'] =='EUR':\n",
    "        return row['volume_actual']*row['EUR']\n",
    "    else: return row['volume_actual']"
   ]
  },
  {
   "cell_type": "code",
   "execution_count": 32,
   "metadata": {},
   "outputs": [],
   "source": [
    "data['amountAMD'] = data.apply(convert_to_amd, axis = 1)"
   ]
  },
  {
   "cell_type": "code",
   "execution_count": 33,
   "metadata": {},
   "outputs": [
    {
     "name": "stdout",
     "output_type": "stream",
     "text": [
      "Count of loans equal to 0 drams:  28358\n",
      "Count of loans smaller than 3,000 drams:  28836\n",
      "Count of loans equal to 3,000 drams:  48092\n"
     ]
    }
   ],
   "source": [
    "print(\"Count of loans equal to 0 drams: \", data['amountAMD'][data['amountAMD'] ==0].count())\n",
    "print(\"Count of loans smaller than 3,000 drams: \", data['amountAMD'][data['amountAMD'] <3000].count())\n",
    "print(\"Count of loans equal to 3,000 drams: \", data['amountAMD'][data['amountAMD'] == 3000].count())"
   ]
  },
  {
   "cell_type": "markdown",
   "metadata": {},
   "source": [
    "As a lower bound for Amount in AMD 3000 drams was chosen."
   ]
  },
  {
   "cell_type": "code",
   "execution_count": 34,
   "metadata": {},
   "outputs": [],
   "source": [
    "data = data[data['amountAMD'] >=3000]"
   ]
  },
  {
   "cell_type": "code",
   "execution_count": 35,
   "metadata": {},
   "outputs": [],
   "source": [
    "data.reset_index(inplace = True, drop = True)"
   ]
  },
  {
   "cell_type": "code",
   "execution_count": 36,
   "metadata": {},
   "outputs": [
    {
     "data": {
      "text/plain": [
       "count    1.580255e+06\n",
       "mean     1.544125e+07\n",
       "std      1.077355e+09\n",
       "min      3.000000e+03\n",
       "25%      1.044747e+05\n",
       "50%      2.145313e+05\n",
       "75%      5.389174e+05\n",
       "max      1.048446e+12\n",
       "Name: amountAMD, dtype: float64"
      ]
     },
     "execution_count": 36,
     "metadata": {},
     "output_type": "execute_result"
    }
   ],
   "source": [
    "data['amountAMD'].describe()"
   ]
  },
  {
   "cell_type": "code",
   "execution_count": 37,
   "metadata": {},
   "outputs": [],
   "source": [
    "Q1 = data['amountAMD'].quantile(0.25) #quantile 1\n",
    "Q3 = data['amountAMD'].quantile(0.75) #quantile 3\n",
    "\n",
    "IQR = Q3 - Q1 \n",
    "\n",
    "lower_bound = 3000\n",
    "upper_bound = Q3 + 1.5 * IQR"
   ]
  },
  {
   "cell_type": "code",
   "execution_count": 38,
   "metadata": {},
   "outputs": [
    {
     "data": {
      "image/png": "[encoded data removed]",
      "text/plain": [
       "<Figure size 640x480 with 1 Axes>"
      ]
     },
     "metadata": {},
     "output_type": "display_data"
    }
   ],
   "source": [
    "sns.boxplot(x=data['amountAMD'])\n",
    "plt.title('Boxplot of Loan Amount in AMD')\n",
    "plt.show()"
   ]
  },
  {
   "cell_type": "code",
   "execution_count": 39,
   "metadata": {},
   "outputs": [],
   "source": [
    "data = data[(data['amountAMD'] >= lower_bound) & (data['amountAMD'] <= upper_bound)]"
   ]
  },
  {
   "cell_type": "code",
   "execution_count": 40,
   "metadata": {},
   "outputs": [],
   "source": [
    "data.reset_index(inplace = True, drop = True)"
   ]
  },
  {
   "cell_type": "code",
   "execution_count": 41,
   "metadata": {},
   "outputs": [
    {
     "data": {
      "image/png": "[encoded data removed]",
      "text/plain": [
       "<Figure size 640x480 with 1 Axes>"
      ]
     },
     "metadata": {},
     "output_type": "display_data"
    }
   ],
   "source": [
    "sns.boxplot(x=data['amountAMD'])\n",
    "plt.title('Boxplot of Loan Amount in AMD after removing outliers')\n",
    "plt.show()"
   ]
  },
  {
   "cell_type": "code",
   "execution_count": 42,
   "metadata": {},
   "outputs": [
    {
     "data": {
      "image/png": "[encoded data removed]",
      "text/plain": [
       "<Figure size 1000x600 with 1 Axes>"
      ]
     },
     "metadata": {},
     "output_type": "display_data"
    }
   ],
   "source": [
    "plt.figure(figsize=(10, 6))\n",
    "sns.histplot(data['amountAMD'], bins=15, color='#B8B8B8', edgecolor='none')\n",
    "\n",
    "mean = data['amountAMD'].mean()\n",
    "median = data['amountAMD'].median()\n",
    "\n",
    "plt.axvline(mean, color='red', linestyle='--', label='Mean')\n",
    "plt.axvline(median, color='green', linestyle='--', label='Median')\n",
    "\n",
    "plt.xlim(data['amountAMD'].min(), data['amountAMD'].max())\n",
    "\n",
    "plt.ticklabel_format(style='plain', useOffset=False)\n",
    "plt.title('Histogram of Loan Amount in AMD')\n",
    "plt.xlabel('Amount')\n",
    "plt.ylabel('Frequency')\n",
    "plt.legend() \n",
    "plt.grid(True)\n",
    "plt.show()"
   ]
  },
  {
   "cell_type": "markdown",
   "metadata": {},
   "source": [
    "#### Age"
   ]
  },
  {
   "cell_type": "markdown",
   "metadata": {},
   "source": [
    "Based on the two existing columns we can find the age of a customer when taking the loan. \n",
    "1. Convert both the Birthdate and contract_date columns from object to datetime.\n",
    "2. Separately compare the month and the day from contract_date to Birthdate."
   ]
  },
  {
   "cell_type": "code",
   "execution_count": 43,
   "metadata": {},
   "outputs": [],
   "source": [
    "data['birthdate'] = pd.to_datetime(data['birthdate'])\n",
    "data['contract_date'] = pd.to_datetime(data['contract_date'])\n",
    "\n",
    "data['Age'] = data['contract_date'].dt.year - data['birthdate'].dt.year\n",
    "is_before_birthday = (data['contract_date'].dt.month < data['birthdate'].dt.month) | \\\n",
    "                     ((data['contract_date'].dt.month == data['birthdate'].dt.month) &\n",
    "                      (data['contract_date'].dt.day < data['birthdate'].dt.day))\n",
    "data['Age'] -= is_before_birthday.astype(int)"
   ]
  },
  {
   "cell_type": "code",
   "execution_count": 44,
   "metadata": {},
   "outputs": [],
   "source": [
    "Q1 = data['Age'].quantile(0.25) #quantile 1\n",
    "Q3 = data['Age'].quantile(0.75) #quantile 3\n",
    "\n",
    "IQR = Q3 - Q1 \n",
    "\n",
    "lower_bound = Q1 - 1.5 * IQR\n",
    "upper_bound = Q3 + 1.5 * IQR"
   ]
  },
  {
   "cell_type": "code",
   "execution_count": 45,
   "metadata": {},
   "outputs": [],
   "source": [
    "# Removing anomalies\n",
    "data = data[~((data['Age'] < 16) & (data['marital_status'] == \"Ամուսնացած (գրանցված և փաստացի)\"))]"
   ]
  },
  {
   "cell_type": "code",
   "execution_count": 46,
   "metadata": {},
   "outputs": [],
   "source": [
    "data.reset_index(inplace = True, drop = True)"
   ]
  },
  {
   "cell_type": "code",
   "execution_count": 47,
   "metadata": {},
   "outputs": [],
   "source": [
    "data = data[(data['Age'] >= lower_bound) & (data['Age'] <= upper_bound)]\n",
    "data.reset_index(inplace = True, drop = True)"
   ]
  },
  {
   "cell_type": "code",
   "execution_count": 48,
   "metadata": {},
   "outputs": [
    {
     "data": {
      "text/plain": [
       "count    1.374133e+06\n",
       "mean     3.762130e+01\n",
       "std      1.199684e+01\n",
       "min      9.000000e+00\n",
       "25%      2.800000e+01\n",
       "50%      3.500000e+01\n",
       "75%      4.600000e+01\n",
       "max      7.300000e+01\n",
       "Name: Age, dtype: float64"
      ]
     },
     "execution_count": 48,
     "metadata": {},
     "output_type": "execute_result"
    }
   ],
   "source": [
    "data.Age.describe()"
   ]
  },
  {
   "cell_type": "code",
   "execution_count": 49,
   "metadata": {},
   "outputs": [
    {
     "data": {
      "image/png": "[encoded data removed]",
      "text/plain": [
       "<Figure size 640x480 with 1 Axes>"
      ]
     },
     "metadata": {},
     "output_type": "display_data"
    }
   ],
   "source": [
    "sns.boxplot(y=data['Age'])\n",
    "plt.title('Boxplot of Customer Ages')\n",
    "plt.ylabel('Age')\n",
    "plt.show()"
   ]
  },
  {
   "cell_type": "markdown",
   "metadata": {},
   "source": [
    "#### Fico Score"
   ]
  },
  {
   "cell_type": "code",
   "execution_count": 50,
   "metadata": {},
   "outputs": [
    {
     "data": {
      "image/png": "[encoded data removed]",
      "text/plain": [
       "<Figure size 600x500 with 1 Axes>"
      ]
     },
     "metadata": {},
     "output_type": "display_data"
    }
   ],
   "source": [
    "plt.figure(figsize=(6, 5))\n",
    "sns.histplot(data['fico_score'], bins=15, color='#B8B8B8', edgecolor='none')\n",
    "\n",
    "mean = data['fico_score'].mean()\n",
    "median = data['fico_score'].median()\n",
    "\n",
    "plt.axvline(mean, color='red', linestyle='--', label='Mean')\n",
    "plt.axvline(median, color='green', linestyle='--', label='Median')\n",
    "\n",
    "plt.xlim(data['fico_score'].min(), data['fico_score'].max())\n",
    "\n",
    "plt.ticklabel_format(style='plain', useOffset=False)\n",
    "plt.title('Histogram of FICO Score')\n",
    "plt.xlabel('FICO score')\n",
    "plt.ylabel('Frequency')\n",
    "plt.legend() \n",
    "plt.grid(True)\n",
    "plt.show()"
   ]
  },
  {
   "cell_type": "code",
   "execution_count": 51,
   "metadata": {},
   "outputs": [
    {
     "data": {
      "image/png": "[encoded data removed]",
      "text/plain": [
       "<Figure size 640x480 with 1 Axes>"
      ]
     },
     "metadata": {},
     "output_type": "display_data"
    }
   ],
   "source": [
    "sns.histplot(data = data, x = \"fico_score\", hue = \"classified\", element = \"step\", bins = 15, kde = True)\n",
    "plt.title(\"Histogram of FICO scores by default status\")\n",
    "plt.show()"
   ]
  },
  {
   "cell_type": "code",
   "execution_count": 52,
   "metadata": {},
   "outputs": [],
   "source": [
    "data['has_fico_score'] = data['fico_score'].notnull().astype(int)"
   ]
  },
  {
   "cell_type": "code",
   "execution_count": 53,
   "metadata": {},
   "outputs": [
    {
     "data": {
      "text/plain": [
       "0    1122572\n",
       "1     251561\n",
       "Name: has_fico_score, dtype: int64"
      ]
     },
     "execution_count": 53,
     "metadata": {},
     "output_type": "execute_result"
    }
   ],
   "source": [
    "data['has_fico_score'].value_counts()"
   ]
  },
  {
   "cell_type": "markdown",
   "metadata": {},
   "source": [
    "#### Income"
   ]
  },
  {
   "cell_type": "code",
   "execution_count": 54,
   "metadata": {},
   "outputs": [],
   "source": [
    "data['income'] = data.groupby('idperson')['income'].transform(lambda x: x.ffill().bfill())"
   ]
  },
  {
   "cell_type": "code",
   "execution_count": 55,
   "metadata": {},
   "outputs": [
    {
     "data": {
      "text/plain": [
       "count    4.002130e+05\n",
       "mean     2.111250e+05\n",
       "std      1.827902e+05\n",
       "min      3.191700e+04\n",
       "25%      9.267000e+04\n",
       "50%      1.464482e+05\n",
       "75%      2.578900e+05\n",
       "max      1.152300e+06\n",
       "Name: income, dtype: float64"
      ]
     },
     "execution_count": 55,
     "metadata": {},
     "output_type": "execute_result"
    }
   ],
   "source": [
    "data['income'].describe()"
   ]
  },
  {
   "cell_type": "markdown",
   "metadata": {},
   "source": [
    "We want to check whether there are some banks that do not check income of a consumer at all."
   ]
  },
  {
   "cell_type": "code",
   "execution_count": 56,
   "metadata": {},
   "outputs": [],
   "source": [
    "nan_income_banks = data.groupby(\"bankid\")[\"income\"].apply(lambda x: x.isna().all())"
   ]
  },
  {
   "cell_type": "code",
   "execution_count": 57,
   "metadata": {},
   "outputs": [
    {
     "data": {
      "text/plain": [
       "bankid\n",
       "11500    False\n",
       "11800    False\n",
       "15100    False\n",
       "15700    False\n",
       "16000    False\n",
       "16300    False\n",
       "16600    False\n",
       "19300    False\n",
       "20500    False\n",
       "20800    False\n",
       "21400    False\n",
       "21700    False\n",
       "22000    False\n",
       "24100    False\n",
       "24700    False\n",
       "25000    False\n",
       "Name: income, dtype: bool"
      ]
     },
     "execution_count": 57,
     "metadata": {},
     "output_type": "execute_result"
    }
   ],
   "source": [
    "nan_income_banks"
   ]
  },
  {
   "cell_type": "code",
   "execution_count": 58,
   "metadata": {},
   "outputs": [],
   "source": [
    "data[\"income2\"] = data[\"income\"]\n",
    "data[\"income2\"].fillna(0, inplace = True)"
   ]
  },
  {
   "cell_type": "code",
   "execution_count": 59,
   "metadata": {},
   "outputs": [],
   "source": [
    "data['has_income'] =data['income'].notnull().astype(int)"
   ]
  },
  {
   "cell_type": "code",
   "execution_count": 60,
   "metadata": {},
   "outputs": [
    {
     "data": {
      "text/plain": [
       "0    973920\n",
       "1    400213\n",
       "Name: has_income, dtype: int64"
      ]
     },
     "execution_count": 60,
     "metadata": {},
     "output_type": "execute_result"
    }
   ],
   "source": [
    "data['has_income'].value_counts()"
   ]
  },
  {
   "cell_type": "code",
   "execution_count": 61,
   "metadata": {},
   "outputs": [
    {
     "data": {
      "image/png": "[encoded data removed]",
      "text/plain": [
       "<Figure size 1000x600 with 1 Axes>"
      ]
     },
     "metadata": {},
     "output_type": "display_data"
    }
   ],
   "source": [
    "plt.figure(figsize=(10, 6))\n",
    "sns.histplot(data['income2'], bins=15, color='#B8B8B8', edgecolor='none')\n",
    "\n",
    "mean = data['income2'].mean()\n",
    "median = data['income2'].median()\n",
    "\n",
    "plt.axvline(mean, color='red', linestyle='--', label='Mean')\n",
    "plt.axvline(median, color='green', linestyle='--', label='Median')\n",
    "\n",
    "plt.xlim(data['income2'].min(), data['income2'].max())\n",
    "\n",
    "plt.ticklabel_format(style='plain', useOffset=False)\n",
    "plt.title('Histogram of Income')\n",
    "plt.xlabel('Income')\n",
    "plt.ylabel('Frequency')\n",
    "plt.legend() \n",
    "plt.grid(True)\n",
    "plt.show()"
   ]
  },
  {
   "cell_type": "code",
   "execution_count": 62,
   "metadata": {},
   "outputs": [
    {
     "data": {
      "image/png": "[encoded data removed]",
      "text/plain": [
       "<Figure size 1000x600 with 1 Axes>"
      ]
     },
     "metadata": {},
     "output_type": "display_data"
    }
   ],
   "source": [
    "plt.figure(figsize=(10, 6))\n",
    "sns.histplot(data['income'], bins=15, color='#B8B8B8', edgecolor='none')\n",
    "\n",
    "mean = data['income'].mean()\n",
    "median = data['income'].median()\n",
    "\n",
    "plt.axvline(mean, color='red', linestyle='--', label='Mean')\n",
    "plt.axvline(median, color='green', linestyle='--', label='Median')\n",
    "\n",
    "plt.xlim(data['income'].min(), data['income'].max())\n",
    "\n",
    "plt.ticklabel_format(style='plain', useOffset=False)\n",
    "plt.title('Histogram of Income without Nans')\n",
    "plt.xlabel('Income')\n",
    "plt.ylabel('Frequency')\n",
    "plt.legend() \n",
    "plt.grid(True)\n",
    "plt.show()"
   ]
  },
  {
   "cell_type": "markdown",
   "metadata": {},
   "source": [
    "#### Loans previously taken"
   ]
  },
  {
   "cell_type": "code",
   "execution_count": 63,
   "metadata": {},
   "outputs": [],
   "source": [
    "data2 = copy.deepcopy(data)\n",
    "\n",
    "data2.sort_values(by=['idperson', 'contract_date'], inplace=True)\n",
    "data2['previous_loans_count'] = data2.groupby('idperson').cumcount()"
   ]
  },
  {
   "cell_type": "code",
   "execution_count": 64,
   "metadata": {},
   "outputs": [
    {
     "data": {
      "text/plain": [
       "count    1.374133e+06\n",
       "mean     9.543783e+00\n",
       "std      4.872487e+01\n",
       "min      0.000000e+00\n",
       "25%      0.000000e+00\n",
       "50%      1.000000e+00\n",
       "75%      2.000000e+00\n",
       "max      1.370000e+03\n",
       "Name: previous_loans_count, dtype: float64"
      ]
     },
     "execution_count": 64,
     "metadata": {},
     "output_type": "execute_result"
    }
   ],
   "source": [
    "data2['previous_loans_count'].describe()"
   ]
  },
  {
   "cell_type": "code",
   "execution_count": 65,
   "metadata": {},
   "outputs": [],
   "source": [
    "data['previous_loans_count']=data2['previous_loans_count']"
   ]
  },
  {
   "cell_type": "code",
   "execution_count": 66,
   "metadata": {},
   "outputs": [
    {
     "data": {
      "text/plain": [
       "0       601010\n",
       "1       291328\n",
       "2       150736\n",
       "3        78248\n",
       "4        41509\n",
       "         ...  \n",
       "1330         1\n",
       "1340         1\n",
       "1327         1\n",
       "1349         1\n",
       "1329         1\n",
       "Name: previous_loans_count, Length: 1371, dtype: int64"
      ]
     },
     "execution_count": 66,
     "metadata": {},
     "output_type": "execute_result"
    }
   ],
   "source": [
    "data['previous_loans_count'].value_counts()"
   ]
  },
  {
   "cell_type": "code",
   "execution_count": 108,
   "metadata": {},
   "outputs": [],
   "source": [
    "data['previous_loans'] = data['previous_loans_count']\n",
    "data['previous_loans'][data['previous_loans_count']==0] = 'No Loans'\n",
    "data['previous_loans'][(data['previous_loans_count']>0) & (data['previous_loans_count']<=5)] = 'up to 5'\n",
    "data['previous_loans'][data['previous_loans_count']>5] = 'more than 5'"
   ]
  },
  {
   "cell_type": "code",
   "execution_count": 109,
   "metadata": {},
   "outputs": [
    {
     "data": {
      "text/plain": [
       "No Loans       601010\n",
       "up to 5        585116\n",
       "more than 5    188007\n",
       "Name: previous_loans, dtype: int64"
      ]
     },
     "execution_count": 109,
     "metadata": {},
     "output_type": "execute_result"
    }
   ],
   "source": [
    "data['previous_loans'].value_counts()"
   ]
  },
  {
   "cell_type": "code",
   "execution_count": 110,
   "metadata": {},
   "outputs": [
    {
     "data": {
      "text/html": [
       "<div>\n",
       "<style scoped>\n",
       "    .dataframe tbody tr th:only-of-type {\n",
       "        vertical-align: middle;\n",
       "    }\n",
       "\n",
       "    .dataframe tbody tr th {\n",
       "        vertical-align: top;\n",
       "    }\n",
       "\n",
       "    .dataframe thead th {\n",
       "        text-align: right;\n",
       "    }\n",
       "</style>\n",
       "<table border=\"1\" class=\"dataframe\">\n",
       "  <thead>\n",
       "    <tr style=\"text-align: right;\">\n",
       "      <th>classified</th>\n",
       "      <th>0.0</th>\n",
       "      <th>1.0</th>\n",
       "    </tr>\n",
       "    <tr>\n",
       "      <th>previous_loans</th>\n",
       "      <th></th>\n",
       "      <th></th>\n",
       "    </tr>\n",
       "  </thead>\n",
       "  <tbody>\n",
       "    <tr>\n",
       "      <th>No Loans</th>\n",
       "      <td>0.704210</td>\n",
       "      <td>0.295790</td>\n",
       "    </tr>\n",
       "    <tr>\n",
       "      <th>more than 5</th>\n",
       "      <td>0.963124</td>\n",
       "      <td>0.036876</td>\n",
       "    </tr>\n",
       "    <tr>\n",
       "      <th>up to 5</th>\n",
       "      <td>0.745126</td>\n",
       "      <td>0.254874</td>\n",
       "    </tr>\n",
       "  </tbody>\n",
       "</table>\n",
       "</div>"
      ],
      "text/plain": [
       "classified           0.0       1.0\n",
       "previous_loans                    \n",
       "No Loans        0.704210  0.295790\n",
       "more than 5     0.963124  0.036876\n",
       "up to 5         0.745126  0.254874"
      ]
     },
     "execution_count": 110,
     "metadata": {},
     "output_type": "execute_result"
    }
   ],
   "source": [
    "distribution = pd.crosstab(data['previous_loans'], data['classified'], normalize = 'index')\n",
    "distribution"
   ]
  },
  {
   "cell_type": "code",
   "execution_count": 113,
   "metadata": {},
   "outputs": [
    {
     "data": {
      "image/png": "[encoded data removed]",
      "text/plain": [
       "<Figure size 640x480 with 1 Axes>"
      ]
     },
     "metadata": {},
     "output_type": "display_data"
    }
   ],
   "source": [
    "distribution.plot(kind = 'bar', color = ['skyblue', 'salmon'])\n",
    "plt.title('Distribution of previously taken loans')\n",
    "plt.show()"
   ]
  },
  {
   "cell_type": "markdown",
   "metadata": {},
   "source": [
    "#### Bank Scores"
   ]
  },
  {
   "cell_type": "code",
   "execution_count": 114,
   "metadata": {},
   "outputs": [
    {
     "name": "stdout",
     "output_type": "stream",
     "text": [
      "<class 'pandas.core.frame.DataFrame'>\n",
      "RangeIndex: 1374133 entries, 0 to 1374132\n",
      "Data columns (total 60 columns):\n",
      " #   Column                     Non-Null Count    Dtype         \n",
      "---  ------                     --------------    -----         \n",
      " 0   idperson                   1374133 non-null  float64       \n",
      " 1   bankid                     1374133 non-null  int32         \n",
      " 2   reg_code                   1374133 non-null  object        \n",
      " 3   loan_type                  1374133 non-null  int8          \n",
      " 4   currency                   1374133 non-null  object        \n",
      " 5   price_nom                  1374133 non-null  float32       \n",
      " 6   price_real                 1374133 non-null  float32       \n",
      " 7   risk_class                 1374133 non-null  int8          \n",
      " 8   last_reclass_date          1374133 non-null  object        \n",
      " 9   overdue_date               1374133 non-null  object        \n",
      " 10  collateral_id              1374133 non-null  int16         \n",
      " 11  volume_contract            1374133 non-null  float32       \n",
      " 12  volume_actual              1374133 non-null  float32       \n",
      " 13  risk_class_other           1374133 non-null  int8          \n",
      " 14  birthdate                  1374133 non-null  datetime64[ns]\n",
      " 15  contract_date              1374133 non-null  datetime64[ns]\n",
      " 16  maturity_date              1374133 non-null  datetime64[ns]\n",
      " 17  actual_date                1374133 non-null  datetime64[ns]\n",
      " 18  maturity_date_actual       1285651 non-null  datetime64[ns]\n",
      " 19  AMD_dummy                  1374127 non-null  float32       \n",
      " 20  classified                 1374133 non-null  float32       \n",
      " 21  year                       1374133 non-null  float32       \n",
      " 22  month                      1374133 non-null  float32       \n",
      " 23  quarter                    1374133 non-null  float32       \n",
      " 24  yq                         1374133 non-null  datetime64[ns]\n",
      " 25  ym                         1374133 non-null  datetime64[ns]\n",
      " 26  maturity                   1374133 non-null  float32       \n",
      " 27  maturity_actual            1262242 non-null  float32       \n",
      " 28  loan_status                1374133 non-null  object        \n",
      " 29  maturity_dates_actual      1285651 non-null  datetime64[ns]\n",
      " 30  fico_score                 251561 non-null   float64       \n",
      " 31  bank_score1                1036366 non-null  float64       \n",
      " 32  bank_score2                153413 non-null   float32       \n",
      " 33  acra_kanxatesogh           72146 non-null    float32       \n",
      " 34  acra_qartayin              382 non-null      float32       \n",
      " 35  acra_nkaragrogh            175 non-null      float32       \n",
      " 36  income                     400213 non-null   float64       \n",
      " 37  dsti                       83849 non-null    float64       \n",
      " 38  first_classification_date  405263 non-null   datetime64[ns]\n",
      " 39  last_classification_date   405263 non-null   datetime64[ns]\n",
      " 40  birth_day                  1374133 non-null  object        \n",
      " 41  education                  1374133 non-null  object        \n",
      " 42  employment                 1374133 non-null  object        \n",
      " 43  family_members             1374133 non-null  float64       \n",
      " 44  gender                     1374133 non-null  object        \n",
      " 45  ispe                       1374133 non-null  object        \n",
      " 46  marital_status             1374133 non-null  object        \n",
      " 47  address                    1374133 non-null  int32         \n",
      " 48  last_reclass_date_bin      1374133 non-null  int64         \n",
      " 49  overdue_date_bin           1374133 non-null  int64         \n",
      " 50  EUR                        1374133 non-null  float64       \n",
      " 51  USD                        1374133 non-null  float64       \n",
      " 52  amountAMD                  1374133 non-null  float64       \n",
      " 53  Age                        1374133 non-null  int64         \n",
      " 54  has_fico_score             1374133 non-null  int32         \n",
      " 55  income2                    1374133 non-null  float64       \n",
      " 56  has_income                 1374133 non-null  int32         \n",
      " 57  previous_loans_count       1374133 non-null  int64         \n",
      " 58  previous_loans             1374133 non-null  object        \n",
      " 59  score_exists               1374133 non-null  int32         \n",
      "dtypes: datetime64[ns](10), float32(15), float64(10), int16(1), int32(5), int64(4), int8(3), object(12)\n",
      "memory usage: 488.8+ MB\n"
     ]
    }
   ],
   "source": [
    "data.info()"
   ]
  },
  {
   "cell_type": "code",
   "execution_count": 115,
   "metadata": {},
   "outputs": [
    {
     "data": {
      "text/plain": [
       "array([24100, 22000, 15700])"
      ]
     },
     "execution_count": 115,
     "metadata": {},
     "output_type": "execute_result"
    }
   ],
   "source": [
    "data['bankid'][data['bank_score2'].notnull()].unique()"
   ]
  },
  {
   "cell_type": "code",
   "execution_count": 116,
   "metadata": {},
   "outputs": [
    {
     "data": {
      "text/plain": [
       "array([15700, 24100, 20500, 22000, 11800, 19300, 16300, 24700, 15100,\n",
       "       16000])"
      ]
     },
     "execution_count": 116,
     "metadata": {},
     "output_type": "execute_result"
    }
   ],
   "source": [
    "data['bankid'][data['bank_score1'].notnull()].unique()"
   ]
  },
  {
   "cell_type": "code",
   "execution_count": 117,
   "metadata": {},
   "outputs": [
    {
     "data": {
      "text/plain": [
       "array([19300, 15700, 24100, 20500, 22000, 24700, 11800, 21700, 16600,\n",
       "       16300, 15100, 11500, 25000, 21400, 16000, 20800])"
      ]
     },
     "execution_count": 117,
     "metadata": {},
     "output_type": "execute_result"
    }
   ],
   "source": [
    "data['bankid'].unique()"
   ]
  },
  {
   "cell_type": "code",
   "execution_count": 118,
   "metadata": {},
   "outputs": [],
   "source": [
    "data['score_exists'] = (~data['bank_score1'].isnull() | ~data['bank_score2'].isnull()).astype(int)"
   ]
  },
  {
   "cell_type": "code",
   "execution_count": 119,
   "metadata": {},
   "outputs": [
    {
     "data": {
      "text/plain": [
       "1    1044990\n",
       "0     329143\n",
       "Name: score_exists, dtype: int64"
      ]
     },
     "execution_count": 119,
     "metadata": {},
     "output_type": "execute_result"
    }
   ],
   "source": [
    "data['score_exists'].value_counts()"
   ]
  },
  {
   "cell_type": "code",
   "execution_count": 120,
   "metadata": {},
   "outputs": [
    {
     "name": "stdout",
     "output_type": "stream",
     "text": [
      "<class 'pandas.core.frame.DataFrame'>\n",
      "RangeIndex: 1374133 entries, 0 to 1374132\n",
      "Data columns (total 60 columns):\n",
      " #   Column                     Non-Null Count    Dtype         \n",
      "---  ------                     --------------    -----         \n",
      " 0   idperson                   1374133 non-null  float64       \n",
      " 1   bankid                     1374133 non-null  int32         \n",
      " 2   reg_code                   1374133 non-null  object        \n",
      " 3   loan_type                  1374133 non-null  int8          \n",
      " 4   currency                   1374133 non-null  object        \n",
      " 5   price_nom                  1374133 non-null  float32       \n",
      " 6   price_real                 1374133 non-null  float32       \n",
      " 7   risk_class                 1374133 non-null  int8          \n",
      " 8   last_reclass_date          1374133 non-null  object        \n",
      " 9   overdue_date               1374133 non-null  object        \n",
      " 10  collateral_id              1374133 non-null  int16         \n",
      " 11  volume_contract            1374133 non-null  float32       \n",
      " 12  volume_actual              1374133 non-null  float32       \n",
      " 13  risk_class_other           1374133 non-null  int8          \n",
      " 14  birthdate                  1374133 non-null  datetime64[ns]\n",
      " 15  contract_date              1374133 non-null  datetime64[ns]\n",
      " 16  maturity_date              1374133 non-null  datetime64[ns]\n",
      " 17  actual_date                1374133 non-null  datetime64[ns]\n",
      " 18  maturity_date_actual       1285651 non-null  datetime64[ns]\n",
      " 19  AMD_dummy                  1374127 non-null  float32       \n",
      " 20  classified                 1374133 non-null  float32       \n",
      " 21  year                       1374133 non-null  float32       \n",
      " 22  month                      1374133 non-null  float32       \n",
      " 23  quarter                    1374133 non-null  float32       \n",
      " 24  yq                         1374133 non-null  datetime64[ns]\n",
      " 25  ym                         1374133 non-null  datetime64[ns]\n",
      " 26  maturity                   1374133 non-null  float32       \n",
      " 27  maturity_actual            1262242 non-null  float32       \n",
      " 28  loan_status                1374133 non-null  object        \n",
      " 29  maturity_dates_actual      1285651 non-null  datetime64[ns]\n",
      " 30  fico_score                 251561 non-null   float64       \n",
      " 31  bank_score1                1036366 non-null  float64       \n",
      " 32  bank_score2                153413 non-null   float32       \n",
      " 33  acra_kanxatesogh           72146 non-null    float32       \n",
      " 34  acra_qartayin              382 non-null      float32       \n",
      " 35  acra_nkaragrogh            175 non-null      float32       \n",
      " 36  income                     400213 non-null   float64       \n",
      " 37  dsti                       83849 non-null    float64       \n",
      " 38  first_classification_date  405263 non-null   datetime64[ns]\n",
      " 39  last_classification_date   405263 non-null   datetime64[ns]\n",
      " 40  birth_day                  1374133 non-null  object        \n",
      " 41  education                  1374133 non-null  object        \n",
      " 42  employment                 1374133 non-null  object        \n",
      " 43  family_members             1374133 non-null  float64       \n",
      " 44  gender                     1374133 non-null  object        \n",
      " 45  ispe                       1374133 non-null  object        \n",
      " 46  marital_status             1374133 non-null  object        \n",
      " 47  address                    1374133 non-null  int32         \n",
      " 48  last_reclass_date_bin      1374133 non-null  int64         \n",
      " 49  overdue_date_bin           1374133 non-null  int64         \n",
      " 50  EUR                        1374133 non-null  float64       \n",
      " 51  USD                        1374133 non-null  float64       \n",
      " 52  amountAMD                  1374133 non-null  float64       \n",
      " 53  Age                        1374133 non-null  int64         \n",
      " 54  has_fico_score             1374133 non-null  int32         \n",
      " 55  income2                    1374133 non-null  float64       \n",
      " 56  has_income                 1374133 non-null  int32         \n",
      " 57  previous_loans_count       1374133 non-null  int64         \n",
      " 58  previous_loans             1374133 non-null  object        \n",
      " 59  score_exists               1374133 non-null  int32         \n",
      "dtypes: datetime64[ns](10), float32(15), float64(10), int16(1), int32(5), int64(4), int8(3), object(12)\n",
      "memory usage: 488.8+ MB\n"
     ]
    }
   ],
   "source": [
    "data.info()"
   ]
  },
  {
   "cell_type": "code",
   "execution_count": 121,
   "metadata": {},
   "outputs": [
    {
     "data": {
      "text/plain": [
       "array([19300, 15700, 24100, 20500, 22000, 24700, 11800, 21700, 16600,\n",
       "       16300, 15100, 11500, 25000, 21400, 16000, 20800])"
      ]
     },
     "execution_count": 121,
     "metadata": {},
     "output_type": "execute_result"
    }
   ],
   "source": [
    "data[\"bankid\"].unique()"
   ]
  },
  {
   "cell_type": "markdown",
   "metadata": {},
   "source": [
    "#### Education"
   ]
  },
  {
   "cell_type": "code",
   "execution_count": 122,
   "metadata": {},
   "outputs": [
    {
     "data": {
      "text/plain": [
       "Միջնակարգ  հանրակրթական                    596930\n",
       "Բարձրագույն մասնագիտական                   478768\n",
       "Միջին մասնագիտական                         158759\n",
       "Չունի տարրական                             123436\n",
       "Տարրական հանրակրթական                       11295\n",
       "Հիմնական հանրակրթական                        3897\n",
       "Նախնական մասնագիտական (արհեստագործական)       823\n",
       "Հետբուհական մասնագիտական                      225\n",
       "Name: education, dtype: int64"
      ]
     },
     "execution_count": 122,
     "metadata": {},
     "output_type": "execute_result"
    }
   ],
   "source": [
    "data.education.value_counts()"
   ]
  },
  {
   "cell_type": "code",
   "execution_count": 123,
   "metadata": {},
   "outputs": [],
   "source": [
    "data['education'] = data['education'].replace({'Հետբուհական մասնագիտական': 'Հետբուհական մասնագիտական', 'Հետբուհական մասնագիտական 8': 'Հետբուհական մասնագիտական'})"
   ]
  },
  {
   "cell_type": "code",
   "execution_count": 124,
   "metadata": {},
   "outputs": [],
   "source": [
    "data['education'] = data['education'].replace('', data['education'].mode()[0])"
   ]
  },
  {
   "cell_type": "code",
   "execution_count": 125,
   "metadata": {},
   "outputs": [
    {
     "data": {
      "text/plain": [
       "Միջնակարգ  հանրակրթական                    596930\n",
       "Բարձրագույն մասնագիտական                   478768\n",
       "Միջին մասնագիտական                         158759\n",
       "Չունի տարրական                             123436\n",
       "Տարրական հանրակրթական                       11295\n",
       "Հիմնական հանրակրթական                        3897\n",
       "Նախնական մասնագիտական (արհեստագործական)       823\n",
       "Հետբուհական մասնագիտական                      225\n",
       "Name: education, dtype: int64"
      ]
     },
     "execution_count": 125,
     "metadata": {},
     "output_type": "execute_result"
    }
   ],
   "source": [
    "data.education.value_counts()"
   ]
  },
  {
   "cell_type": "markdown",
   "metadata": {},
   "source": [
    "#### Employment"
   ]
  },
  {
   "cell_type": "code",
   "execution_count": 126,
   "metadata": {},
   "outputs": [
    {
     "data": {
      "text/plain": [
       "              882332\n",
       "Employed      469374\n",
       "Unemployed     22427\n",
       "Name: employment, dtype: int64"
      ]
     },
     "execution_count": 126,
     "metadata": {},
     "output_type": "execute_result"
    }
   ],
   "source": [
    "data.employment.value_counts()"
   ]
  },
  {
   "cell_type": "code",
   "execution_count": 127,
   "metadata": {},
   "outputs": [],
   "source": [
    "data['employment'][data['has_income']==1] = 'Employed'"
   ]
  },
  {
   "cell_type": "code",
   "execution_count": 128,
   "metadata": {},
   "outputs": [],
   "source": [
    "data['employment'] = data['employment'].replace('Այլ', data['employment'].mode()[0])"
   ]
  },
  {
   "cell_type": "code",
   "execution_count": 129,
   "metadata": {},
   "outputs": [
    {
     "data": {
      "text/plain": [
       "              882332\n",
       "Employed      469374\n",
       "Unemployed     22427\n",
       "Name: employment, dtype: int64"
      ]
     },
     "execution_count": 129,
     "metadata": {},
     "output_type": "execute_result"
    }
   ],
   "source": [
    "data.employment.value_counts()"
   ]
  },
  {
   "cell_type": "code",
   "execution_count": 130,
   "metadata": {},
   "outputs": [],
   "source": [
    "data['employment'] = data['employment'].replace({'Աշխատում է որպես վարձու աշխատող ոչ պետական հատվածում': 'Employed',\n",
    "                                                 'Աշխատում է որպես վարձու աշխատող պետական հատվածում': 'Employed', \n",
    "                                                 'Չի աշխատում՝ աշխատունակ  է':'Unemployed',\n",
    "                                                'Չի աշխատում՝ անաշխատունակ է' : 'Unemployed',\n",
    "                                                 'Ինքնազբաղված է` սեփական բիզնեսում կամ որպես ընտանիքի անդամ աշխատում է առանց վարձատրության': 'Employed', \n",
    "                                                 'Գործատու է ': 'Employed'})"
   ]
  },
  {
   "cell_type": "code",
   "execution_count": 131,
   "metadata": {},
   "outputs": [
    {
     "data": {
      "text/plain": [
       "              882332\n",
       "Employed      469374\n",
       "Unemployed     22427\n",
       "Name: employment, dtype: int64"
      ]
     },
     "execution_count": 131,
     "metadata": {},
     "output_type": "execute_result"
    }
   ],
   "source": [
    "data['employment'].value_counts()"
   ]
  },
  {
   "cell_type": "markdown",
   "metadata": {},
   "source": [
    "#### Gender"
   ]
  },
  {
   "cell_type": "code",
   "execution_count": 132,
   "metadata": {},
   "outputs": [
    {
     "data": {
      "text/plain": [
       "F    687610\n",
       "M    686523\n",
       "Name: gender, dtype: int64"
      ]
     },
     "execution_count": 132,
     "metadata": {},
     "output_type": "execute_result"
    }
   ],
   "source": [
    "data.gender.value_counts()"
   ]
  },
  {
   "cell_type": "markdown",
   "metadata": {},
   "source": [
    "#### Marital Status"
   ]
  },
  {
   "cell_type": "code",
   "execution_count": 133,
   "metadata": {},
   "outputs": [
    {
     "data": {
      "text/plain": [
       "Ամուսնացած (գրանցված և փաստացի)    980241\n",
       "Երբևէ չամուսնացած                  393892\n",
       "Name: marital_status, dtype: int64"
      ]
     },
     "execution_count": 133,
     "metadata": {},
     "output_type": "execute_result"
    }
   ],
   "source": [
    "data.marital_status.value_counts()"
   ]
  },
  {
   "cell_type": "markdown",
   "metadata": {},
   "source": [
    "Since most of the values are either Ամուսնացած (գրանցված և փաստացի) or Երբևէ չամուսնացած, we fill the others based on these two."
   ]
  },
  {
   "cell_type": "code",
   "execution_count": 134,
   "metadata": {},
   "outputs": [],
   "source": [
    "data['marital_status'] = data['marital_status'].replace('', data['marital_status'].mode()[0])\n",
    "data['marital_status'] = data['marital_status'].replace({'Այրի/Կնակորույս': 'Երբևէ չամուսնացած', 'Այրի/Կնակորույս ': 'Երբևէ չամուսնացած', 'Ամուսնալուծված':'Երբևէ չամուսնացած' })"
   ]
  },
  {
   "cell_type": "code",
   "execution_count": 135,
   "metadata": {},
   "outputs": [
    {
     "data": {
      "text/plain": [
       "Ամուսնացած (գրանցված և փաստացի)    980241\n",
       "Երբևէ չամուսնացած                  393892\n",
       "Name: marital_status, dtype: int64"
      ]
     },
     "execution_count": 135,
     "metadata": {},
     "output_type": "execute_result"
    }
   ],
   "source": [
    "data.marital_status.value_counts()"
   ]
  },
  {
   "cell_type": "markdown",
   "metadata": {},
   "source": [
    "#### Family Members"
   ]
  },
  {
   "cell_type": "code",
   "execution_count": 137,
   "metadata": {},
   "outputs": [],
   "source": [
    "data['family_members'].fillna(data['family_members'].mean(), inplace=True)"
   ]
  },
  {
   "cell_type": "code",
   "execution_count": 138,
   "metadata": {},
   "outputs": [
    {
     "data": {
      "image/png": "[encoded data removed]",
      "text/plain": [
       "<Figure size 640x480 with 1 Axes>"
      ]
     },
     "metadata": {},
     "output_type": "display_data"
    }
   ],
   "source": [
    "sns.boxplot(x=data['family_members'])\n",
    "plt.title('Boxplot of number of family_members')\n",
    "plt.show()"
   ]
  },
  {
   "cell_type": "code",
   "execution_count": 139,
   "metadata": {},
   "outputs": [],
   "source": [
    "Q1 = data['family_members'].quantile(0.25) #quantile 1\n",
    "Q3 = data['family_members'].quantile(0.75) #quantile 3\n",
    "\n",
    "IQR = Q3 - Q1 \n",
    "\n",
    "lower_bound = 0\n",
    "upper_bound = Q3 + 1.5 * IQR"
   ]
  },
  {
   "cell_type": "code",
   "execution_count": 140,
   "metadata": {},
   "outputs": [
    {
     "data": {
      "text/plain": [
       "0"
      ]
     },
     "execution_count": 140,
     "metadata": {},
     "output_type": "execute_result"
    }
   ],
   "source": [
    "data['family_members'][data['family_members'] > upper_bound].count()"
   ]
  },
  {
   "cell_type": "code",
   "execution_count": 141,
   "metadata": {},
   "outputs": [],
   "source": [
    "data.loc[data['family_members'] > upper_bound, 'family_members'] = data['family_members'].mean()"
   ]
  },
  {
   "cell_type": "code",
   "execution_count": 142,
   "metadata": {},
   "outputs": [
    {
     "data": {
      "image/png": "[encoded data removed]",
      "text/plain": [
       "<Figure size 640x480 with 1 Axes>"
      ]
     },
     "metadata": {},
     "output_type": "display_data"
    }
   ],
   "source": [
    "sns.boxplot(x=data['family_members'])\n",
    "plt.title('Boxplot of number of family_members')\n",
    "plt.show()"
   ]
  },
  {
   "cell_type": "markdown",
   "metadata": {},
   "source": [
    "#### Baseline Model"
   ]
  },
  {
   "cell_type": "code",
   "execution_count": 143,
   "metadata": {},
   "outputs": [],
   "source": [
    "data_base = data[[ 'idperson',\n",
    "'bankid',\n",
    "'loan_type',\n",
    "'currency',\n",
    "'price_nom',\n",
    "'price_real',\n",
    "'risk_class',\n",
    "'year',\n",
    "'month',\n",
    "'quarter',\n",
    "'maturity',\n",
    "'education',\n",
    "'family_members',\n",
    "'gender',\n",
    "'ispe',\n",
    "'marital_status',\n",
    "'last_reclass_date_bin',\n",
    "'overdue_date_bin',\n",
    "'amountAMD',\n",
    "'Age',\n",
    "'has_fico_score',\n",
    "'income2',\n",
    "'has_income',\n",
    "'score_exists', \n",
    "'previous_loans',\n",
    "'classified']]"
   ]
  },
  {
   "cell_type": "code",
   "execution_count": 144,
   "metadata": {},
   "outputs": [
    {
     "name": "stdout",
     "output_type": "stream",
     "text": [
      "<class 'pandas.core.frame.DataFrame'>\n",
      "RangeIndex: 1374133 entries, 0 to 1374132\n",
      "Data columns (total 26 columns):\n",
      " #   Column                 Non-Null Count    Dtype  \n",
      "---  ------                 --------------    -----  \n",
      " 0   idperson               1374133 non-null  float64\n",
      " 1   bankid                 1374133 non-null  int32  \n",
      " 2   loan_type              1374133 non-null  int8   \n",
      " 3   currency               1374133 non-null  object \n",
      " 4   price_nom              1374133 non-null  float32\n",
      " 5   price_real             1374133 non-null  float32\n",
      " 6   risk_class             1374133 non-null  int8   \n",
      " 7   year                   1374133 non-null  float32\n",
      " 8   month                  1374133 non-null  float32\n",
      " 9   quarter                1374133 non-null  float32\n",
      " 10  maturity               1374133 non-null  float32\n",
      " 11  education              1374133 non-null  object \n",
      " 12  family_members         1374133 non-null  float64\n",
      " 13  gender                 1374133 non-null  object \n",
      " 14  ispe                   1374133 non-null  object \n",
      " 15  marital_status         1374133 non-null  object \n",
      " 16  last_reclass_date_bin  1374133 non-null  int64  \n",
      " 17  overdue_date_bin       1374133 non-null  int64  \n",
      " 18  amountAMD              1374133 non-null  float64\n",
      " 19  Age                    1374133 non-null  int64  \n",
      " 20  has_fico_score         1374133 non-null  int32  \n",
      " 21  income2                1374133 non-null  float64\n",
      " 22  has_income             1374133 non-null  int32  \n",
      " 23  score_exists           1374133 non-null  int32  \n",
      " 24  previous_loans         1374133 non-null  object \n",
      " 25  classified             1374133 non-null  float32\n",
      "dtypes: float32(7), float64(4), int32(4), int64(3), int8(2), object(6)\n",
      "memory usage: 196.6+ MB\n"
     ]
    }
   ],
   "source": [
    "data_base.info()"
   ]
  },
  {
   "cell_type": "code",
   "execution_count": 145,
   "metadata": {},
   "outputs": [],
   "source": [
    "data_base['marital_status'][data_base['marital_status'] == \"Ամուսնացած (գրանցված և փաստացի)\"] = 'Married'\n",
    "data_base['marital_status'][data_base['marital_status'] == \"Երբևէ չամուսնացած\"] = 'Single'"
   ]
  },
  {
   "cell_type": "code",
   "execution_count": 146,
   "metadata": {},
   "outputs": [],
   "source": [
    "data_base['education'][data_base['education'] == \"Բարձրագույն մասնագիտական\"] = 'Master'\n",
    "data_base['education'][data_base['education'] == \"Միջին մասնագիտական\"] = 'Bachelor'\n",
    "data_base['education'][data_base['education'] == \"Չունի տարրական\"] = 'No Edu'\n",
    "data_base['education'][data_base['education'] == \"Տարրական հանրակրթական\"] = 'Primary'\n",
    "data_base['education'][data_base['education'] == \"Միջնակարգ  հանրակրթական\"] = 'Upper Secondary'\n",
    "data_base['education'][data_base['education'] == \"Հիմնական հանրակրթական\"] = 'Lower Secondary'\n",
    "data_base['education'][data_base['education'] == \"Նախնական մասնագիտական (արհեստագործական)\"] = 'Tertiary'\n",
    "data_base['education'][data_base['education'] == \"Հետբուհական մասնագիտական\"] = 'Doctorate'"
   ]
  },
  {
   "cell_type": "code",
   "execution_count": 147,
   "metadata": {
    "scrolled": false
   },
   "outputs": [
    {
     "data": {
      "text/html": [
       "<div>\n",
       "<style scoped>\n",
       "    .dataframe tbody tr th:only-of-type {\n",
       "        vertical-align: middle;\n",
       "    }\n",
       "\n",
       "    .dataframe tbody tr th {\n",
       "        vertical-align: top;\n",
       "    }\n",
       "\n",
       "    .dataframe thead th {\n",
       "        text-align: right;\n",
       "    }\n",
       "</style>\n",
       "<table border=\"1\" class=\"dataframe\">\n",
       "  <thead>\n",
       "    <tr style=\"text-align: right;\">\n",
       "      <th></th>\n",
       "      <th>idperson</th>\n",
       "      <th>bankid</th>\n",
       "      <th>loan_type</th>\n",
       "      <th>currency</th>\n",
       "      <th>price_nom</th>\n",
       "      <th>price_real</th>\n",
       "      <th>risk_class</th>\n",
       "      <th>year</th>\n",
       "      <th>month</th>\n",
       "      <th>quarter</th>\n",
       "      <th>...</th>\n",
       "      <th>last_reclass_date_bin</th>\n",
       "      <th>overdue_date_bin</th>\n",
       "      <th>amountAMD</th>\n",
       "      <th>Age</th>\n",
       "      <th>has_fico_score</th>\n",
       "      <th>income2</th>\n",
       "      <th>has_income</th>\n",
       "      <th>score_exists</th>\n",
       "      <th>previous_loans</th>\n",
       "      <th>classified</th>\n",
       "    </tr>\n",
       "  </thead>\n",
       "  <tbody>\n",
       "    <tr>\n",
       "      <th>0</th>\n",
       "      <td>1.107040e+12</td>\n",
       "      <td>19300</td>\n",
       "      <td>7</td>\n",
       "      <td>AMD</td>\n",
       "      <td>12.0</td>\n",
       "      <td>12.930000</td>\n",
       "      <td>0</td>\n",
       "      <td>2017.0</td>\n",
       "      <td>6.0</td>\n",
       "      <td>2.0</td>\n",
       "      <td>...</td>\n",
       "      <td>0</td>\n",
       "      <td>0</td>\n",
       "      <td>1.010936e+06</td>\n",
       "      <td>30</td>\n",
       "      <td>0</td>\n",
       "      <td>0.0</td>\n",
       "      <td>0</td>\n",
       "      <td>0</td>\n",
       "      <td>No Loans</td>\n",
       "      <td>0.0</td>\n",
       "    </tr>\n",
       "    <tr>\n",
       "      <th>1</th>\n",
       "      <td>1.107040e+12</td>\n",
       "      <td>19300</td>\n",
       "      <td>1</td>\n",
       "      <td>AMD</td>\n",
       "      <td>0.0</td>\n",
       "      <td>23.370001</td>\n",
       "      <td>0</td>\n",
       "      <td>2018.0</td>\n",
       "      <td>11.0</td>\n",
       "      <td>4.0</td>\n",
       "      <td>...</td>\n",
       "      <td>0</td>\n",
       "      <td>0</td>\n",
       "      <td>5.800000e+05</td>\n",
       "      <td>34</td>\n",
       "      <td>0</td>\n",
       "      <td>0.0</td>\n",
       "      <td>0</td>\n",
       "      <td>0</td>\n",
       "      <td>up to 5</td>\n",
       "      <td>0.0</td>\n",
       "    </tr>\n",
       "    <tr>\n",
       "      <th>2</th>\n",
       "      <td>1.107040e+12</td>\n",
       "      <td>19300</td>\n",
       "      <td>1</td>\n",
       "      <td>AMD</td>\n",
       "      <td>24.0</td>\n",
       "      <td>33.110001</td>\n",
       "      <td>0</td>\n",
       "      <td>2016.0</td>\n",
       "      <td>1.0</td>\n",
       "      <td>1.0</td>\n",
       "      <td>...</td>\n",
       "      <td>0</td>\n",
       "      <td>0</td>\n",
       "      <td>2.873000e+05</td>\n",
       "      <td>31</td>\n",
       "      <td>0</td>\n",
       "      <td>0.0</td>\n",
       "      <td>0</td>\n",
       "      <td>0</td>\n",
       "      <td>No Loans</td>\n",
       "      <td>0.0</td>\n",
       "    </tr>\n",
       "    <tr>\n",
       "      <th>3</th>\n",
       "      <td>1.107040e+12</td>\n",
       "      <td>15700</td>\n",
       "      <td>1</td>\n",
       "      <td>AMD</td>\n",
       "      <td>21.0</td>\n",
       "      <td>23.139999</td>\n",
       "      <td>0</td>\n",
       "      <td>2018.0</td>\n",
       "      <td>9.0</td>\n",
       "      <td>3.0</td>\n",
       "      <td>...</td>\n",
       "      <td>0</td>\n",
       "      <td>0</td>\n",
       "      <td>8.900000e+05</td>\n",
       "      <td>53</td>\n",
       "      <td>1</td>\n",
       "      <td>145030.0</td>\n",
       "      <td>1</td>\n",
       "      <td>1</td>\n",
       "      <td>No Loans</td>\n",
       "      <td>0.0</td>\n",
       "    </tr>\n",
       "    <tr>\n",
       "      <th>4</th>\n",
       "      <td>1.207040e+12</td>\n",
       "      <td>19300</td>\n",
       "      <td>1</td>\n",
       "      <td>AMD</td>\n",
       "      <td>18.0</td>\n",
       "      <td>19.559999</td>\n",
       "      <td>0</td>\n",
       "      <td>2021.0</td>\n",
       "      <td>3.0</td>\n",
       "      <td>1.0</td>\n",
       "      <td>...</td>\n",
       "      <td>0</td>\n",
       "      <td>0</td>\n",
       "      <td>3.000000e+05</td>\n",
       "      <td>42</td>\n",
       "      <td>0</td>\n",
       "      <td>0.0</td>\n",
       "      <td>0</td>\n",
       "      <td>0</td>\n",
       "      <td>No Loans</td>\n",
       "      <td>0.0</td>\n",
       "    </tr>\n",
       "    <tr>\n",
       "      <th>5</th>\n",
       "      <td>1.207040e+12</td>\n",
       "      <td>24100</td>\n",
       "      <td>1</td>\n",
       "      <td>AMD</td>\n",
       "      <td>0.0</td>\n",
       "      <td>0.000000</td>\n",
       "      <td>0</td>\n",
       "      <td>2018.0</td>\n",
       "      <td>11.0</td>\n",
       "      <td>4.0</td>\n",
       "      <td>...</td>\n",
       "      <td>0</td>\n",
       "      <td>0</td>\n",
       "      <td>8.790000e+04</td>\n",
       "      <td>32</td>\n",
       "      <td>0</td>\n",
       "      <td>0.0</td>\n",
       "      <td>0</td>\n",
       "      <td>1</td>\n",
       "      <td>No Loans</td>\n",
       "      <td>0.0</td>\n",
       "    </tr>\n",
       "    <tr>\n",
       "      <th>6</th>\n",
       "      <td>1.207040e+12</td>\n",
       "      <td>19300</td>\n",
       "      <td>1</td>\n",
       "      <td>AMD</td>\n",
       "      <td>12.0</td>\n",
       "      <td>12.680000</td>\n",
       "      <td>0</td>\n",
       "      <td>2016.0</td>\n",
       "      <td>3.0</td>\n",
       "      <td>1.0</td>\n",
       "      <td>...</td>\n",
       "      <td>0</td>\n",
       "      <td>0</td>\n",
       "      <td>4.889000e+05</td>\n",
       "      <td>34</td>\n",
       "      <td>0</td>\n",
       "      <td>0.0</td>\n",
       "      <td>0</td>\n",
       "      <td>0</td>\n",
       "      <td>No Loans</td>\n",
       "      <td>0.0</td>\n",
       "    </tr>\n",
       "    <tr>\n",
       "      <th>7</th>\n",
       "      <td>1.207040e+12</td>\n",
       "      <td>24100</td>\n",
       "      <td>1</td>\n",
       "      <td>AMD</td>\n",
       "      <td>0.0</td>\n",
       "      <td>0.000000</td>\n",
       "      <td>0</td>\n",
       "      <td>2019.0</td>\n",
       "      <td>12.0</td>\n",
       "      <td>4.0</td>\n",
       "      <td>...</td>\n",
       "      <td>0</td>\n",
       "      <td>0</td>\n",
       "      <td>4.628894e+05</td>\n",
       "      <td>25</td>\n",
       "      <td>0</td>\n",
       "      <td>0.0</td>\n",
       "      <td>0</td>\n",
       "      <td>1</td>\n",
       "      <td>No Loans</td>\n",
       "      <td>0.0</td>\n",
       "    </tr>\n",
       "    <tr>\n",
       "      <th>8</th>\n",
       "      <td>1.207040e+12</td>\n",
       "      <td>20500</td>\n",
       "      <td>1</td>\n",
       "      <td>AMD</td>\n",
       "      <td>19.5</td>\n",
       "      <td>23.660000</td>\n",
       "      <td>0</td>\n",
       "      <td>2021.0</td>\n",
       "      <td>1.0</td>\n",
       "      <td>1.0</td>\n",
       "      <td>...</td>\n",
       "      <td>0</td>\n",
       "      <td>0</td>\n",
       "      <td>3.560000e+05</td>\n",
       "      <td>26</td>\n",
       "      <td>0</td>\n",
       "      <td>0.0</td>\n",
       "      <td>0</td>\n",
       "      <td>1</td>\n",
       "      <td>up to 5</td>\n",
       "      <td>0.0</td>\n",
       "    </tr>\n",
       "    <tr>\n",
       "      <th>9</th>\n",
       "      <td>1.207040e+12</td>\n",
       "      <td>24100</td>\n",
       "      <td>1</td>\n",
       "      <td>AMD</td>\n",
       "      <td>0.0</td>\n",
       "      <td>0.000000</td>\n",
       "      <td>0</td>\n",
       "      <td>2021.0</td>\n",
       "      <td>4.0</td>\n",
       "      <td>2.0</td>\n",
       "      <td>...</td>\n",
       "      <td>0</td>\n",
       "      <td>0</td>\n",
       "      <td>7.720000e+04</td>\n",
       "      <td>55</td>\n",
       "      <td>0</td>\n",
       "      <td>0.0</td>\n",
       "      <td>0</td>\n",
       "      <td>1</td>\n",
       "      <td>No Loans</td>\n",
       "      <td>0.0</td>\n",
       "    </tr>\n",
       "  </tbody>\n",
       "</table>\n",
       "<p>10 rows × 26 columns</p>\n",
       "</div>"
      ],
      "text/plain": [
       "       idperson  bankid  loan_type currency  price_nom  price_real  \\\n",
       "0  1.107040e+12   19300          7      AMD       12.0   12.930000   \n",
       "1  1.107040e+12   19300          1      AMD        0.0   23.370001   \n",
       "2  1.107040e+12   19300          1      AMD       24.0   33.110001   \n",
       "3  1.107040e+12   15700          1      AMD       21.0   23.139999   \n",
       "4  1.207040e+12   19300          1      AMD       18.0   19.559999   \n",
       "5  1.207040e+12   24100          1      AMD        0.0    0.000000   \n",
       "6  1.207040e+12   19300          1      AMD       12.0   12.680000   \n",
       "7  1.207040e+12   24100          1      AMD        0.0    0.000000   \n",
       "8  1.207040e+12   20500          1      AMD       19.5   23.660000   \n",
       "9  1.207040e+12   24100          1      AMD        0.0    0.000000   \n",
       "\n",
       "   risk_class    year  month  quarter  ...  last_reclass_date_bin  \\\n",
       "0           0  2017.0    6.0      2.0  ...                      0   \n",
       "1           0  2018.0   11.0      4.0  ...                      0   \n",
       "2           0  2016.0    1.0      1.0  ...                      0   \n",
       "3           0  2018.0    9.0      3.0  ...                      0   \n",
       "4           0  2021.0    3.0      1.0  ...                      0   \n",
       "5           0  2018.0   11.0      4.0  ...                      0   \n",
       "6           0  2016.0    3.0      1.0  ...                      0   \n",
       "7           0  2019.0   12.0      4.0  ...                      0   \n",
       "8           0  2021.0    1.0      1.0  ...                      0   \n",
       "9           0  2021.0    4.0      2.0  ...                      0   \n",
       "\n",
       "  overdue_date_bin     amountAMD Age has_fico_score   income2  has_income  \\\n",
       "0                0  1.010936e+06  30              0       0.0           0   \n",
       "1                0  5.800000e+05  34              0       0.0           0   \n",
       "2                0  2.873000e+05  31              0       0.0           0   \n",
       "3                0  8.900000e+05  53              1  145030.0           1   \n",
       "4                0  3.000000e+05  42              0       0.0           0   \n",
       "5                0  8.790000e+04  32              0       0.0           0   \n",
       "6                0  4.889000e+05  34              0       0.0           0   \n",
       "7                0  4.628894e+05  25              0       0.0           0   \n",
       "8                0  3.560000e+05  26              0       0.0           0   \n",
       "9                0  7.720000e+04  55              0       0.0           0   \n",
       "\n",
       "   score_exists  previous_loans  classified  \n",
       "0             0        No Loans         0.0  \n",
       "1             0         up to 5         0.0  \n",
       "2             0        No Loans         0.0  \n",
       "3             1        No Loans         0.0  \n",
       "4             0        No Loans         0.0  \n",
       "5             1        No Loans         0.0  \n",
       "6             0        No Loans         0.0  \n",
       "7             1        No Loans         0.0  \n",
       "8             1         up to 5         0.0  \n",
       "9             1        No Loans         0.0  \n",
       "\n",
       "[10 rows x 26 columns]"
      ]
     },
     "execution_count": 147,
     "metadata": {},
     "output_type": "execute_result"
    }
   ],
   "source": [
    "data_base.head(10)"
   ]
  },
  {
   "cell_type": "code",
   "execution_count": 148,
   "metadata": {},
   "outputs": [],
   "source": [
    "data_base['Default'] = 0\n",
    "data_base['Default'][data_base['risk_class'] ==4] = 1"
   ]
  },
  {
   "cell_type": "code",
   "execution_count": 149,
   "metadata": {},
   "outputs": [],
   "source": [
    "data_base.to_csv(\"data_baseline.csv\")"
   ]
  },
  {
   "cell_type": "markdown",
   "metadata": {},
   "source": [
    "### Exploratory Data Analyisis"
   ]
  },
  {
   "cell_type": "code",
   "execution_count": 151,
   "metadata": {},
   "outputs": [],
   "source": [
    "data['Default'] = 0\n",
    "data['Default'][data['risk_class'] ==4] = 1"
   ]
  },
  {
   "cell_type": "code",
   "execution_count": 161,
   "metadata": {},
   "outputs": [
    {
     "data": {
      "image/png": "[encoded data removed]",
      "text/plain": [
       "<Figure size 1200x600 with 1 Axes>"
      ]
     },
     "metadata": {},
     "output_type": "display_data"
    }
   ],
   "source": [
    "plt.figure(figsize=(12, 6))\n",
    "\n",
    "sns.boxplot(x='Default', y='fico_score', data=data, palette = 'BuPu')\n",
    "\n",
    "# Adding titles and labels\n",
    "plt.title('Default Rate by FICO Score')\n",
    "plt.xlabel('Default Status', fontsize=12)\n",
    "plt.ylabel('FICO Score', fontsize=12)\n",
    "plt.xticks(ticks=[0, 1], labels=['No Default', 'Default'])  # Set custom labels for the x-axis\n",
    "\n",
    "# Show the plot\n",
    "plt.show()"
   ]
  },
  {
   "cell_type": "code",
   "execution_count": 162,
   "metadata": {},
   "outputs": [
    {
     "data": {
      "image/png": "[encoded data removed]",
      "text/plain": [
       "<Figure size 1200x600 with 1 Axes>"
      ]
     },
     "metadata": {},
     "output_type": "display_data"
    }
   ],
   "source": [
    "plt.figure(figsize=(12, 6))\n",
    "\n",
    "sns.boxplot(x='Default', y='amountAMD', data=data, palette = 'BuPu' )\n",
    "\n",
    "plt.title('Default Rate by Loan Volume')\n",
    "plt.xlabel('Default Status', fontsize=12)\n",
    "plt.ylabel('Amount', fontsize=12)\n",
    "plt.xticks(ticks=[0, 1], labels=['No Default', 'Default']) \n",
    "\n",
    "plt.show()"
   ]
  },
  {
   "cell_type": "markdown",
   "metadata": {},
   "source": [
    "#### The end"
   ]
  }
 ],
 "metadata": {
  "kernelspec": {
   "display_name": "Python 3",
   "language": "python",
   "name": "python3"
  },
  "language_info": {
   "codemirror_mode": {
    "name": "ipython",
    "version": 3
   },
   "file_extension": ".py",
   "mimetype": "text/x-python",
   "name": "python",
   "nbconvert_exporter": "python",
   "pygments_lexer": "ipython3",
   "version": "3.8.5"
  }
 },
 "nbformat": 4,
 "nbformat_minor": 5
}
